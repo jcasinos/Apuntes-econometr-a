{
 "cells": [
  {
   "cell_type": "markdown",
   "metadata": {},
   "source": [
    "# Introducction to Pandas"
   ]
  },
  {
   "cell_type": "markdown",
   "metadata": {},
   "source": [
    "Pandas is an open source, BSD-licensed library providing high-performance, easy-to-use data structures and data analysis tools for the Python programming language. \n",
    "\n",
    "We should import the following packages:"
   ]
  },
  {
   "cell_type": "code",
   "execution_count": 1,
   "metadata": {},
   "outputs": [],
   "source": [
    "import pandas as pd\n",
    "import numpy as np"
   ]
  },
  {
   "cell_type": "markdown",
   "metadata": {},
   "source": [
    "Two important data types defined by pandas are:\n",
    "- **Series**: a collection of observations on a single variable\n",
    "- **DataFrame**: an object for storing related columns of data\n",
    "\n",
    "Let's begin with **Series**"
   ]
  },
  {
   "cell_type": "markdown",
   "metadata": {},
   "source": [
    "### Series"
   ]
  },
  {
   "cell_type": "code",
   "execution_count": 13,
   "metadata": {},
   "outputs": [
    {
     "data": {
      "text/plain": [
       "0    0.491321\n",
       "1    0.382497\n",
       "2    0.441126\n",
       "3    0.561743\n",
       "4    0.293731\n",
       "Name: Openness index, dtype: float64"
      ]
     },
     "execution_count": 13,
     "metadata": {},
     "output_type": "execute_result"
    }
   ],
   "source": [
    "s = pd.Series(np.random.rand(5), name = 'Openness index')\n",
    "s"
   ]
  },
  {
   "cell_type": "markdown",
   "metadata": {},
   "source": [
    "We can imagine the indices 0,1,2,3,4 as indexing five different countries, and their values being their openness index\n",
    "\n",
    "Pandas are built on top of NumPy arrays. Therefore, it supports similar operations"
   ]
  },
  {
   "cell_type": "code",
   "execution_count": 14,
   "metadata": {},
   "outputs": [
    {
     "data": {
      "text/plain": [
       "0    49.132138\n",
       "1    38.249724\n",
       "2    44.112563\n",
       "3    56.174328\n",
       "4    29.373071\n",
       "Name: Openness index, dtype: float64"
      ]
     },
     "execution_count": 14,
     "metadata": {},
     "output_type": "execute_result"
    }
   ],
   "source": [
    "s*100"
   ]
  },
  {
   "cell_type": "code",
   "execution_count": 15,
   "metadata": {},
   "outputs": [
    {
     "data": {
      "text/plain": [
       "0    0.700943\n",
       "1    0.618464\n",
       "2    0.664173\n",
       "3    0.749495\n",
       "4    0.541969\n",
       "Name: Openness index, dtype: float64"
      ]
     },
     "execution_count": 15,
     "metadata": {},
     "output_type": "execute_result"
    }
   ],
   "source": [
    "np.sqrt(s)"
   ]
  },
  {
   "cell_type": "markdown",
   "metadata": {},
   "source": [
    "However, they have some aditional statistical methods:"
   ]
  },
  {
   "cell_type": "code",
   "execution_count": 16,
   "metadata": {},
   "outputs": [
    {
     "data": {
      "text/plain": [
       "count    5.000000\n",
       "mean     0.434084\n",
       "std      0.102449\n",
       "min      0.293731\n",
       "25%      0.382497\n",
       "50%      0.441126\n",
       "75%      0.491321\n",
       "max      0.561743\n",
       "Name: Openness index, dtype: float64"
      ]
     },
     "execution_count": 16,
     "metadata": {},
     "output_type": "execute_result"
    }
   ],
   "source": [
    "s.describe()"
   ]
  },
  {
   "cell_type": "markdown",
   "metadata": {},
   "source": [
    "And their indices are more flexible"
   ]
  },
  {
   "cell_type": "code",
   "execution_count": 18,
   "metadata": {
    "scrolled": true
   },
   "outputs": [
    {
     "data": {
      "text/plain": [
       "USA    0.491321\n",
       "DEU    0.382497\n",
       "FR     0.441126\n",
       "SP     0.561743\n",
       "ITA    0.293731\n",
       "Name: Openness index, dtype: float64"
      ]
     },
     "execution_count": 18,
     "metadata": {},
     "output_type": "execute_result"
    }
   ],
   "source": [
    "s.index = ['USA', 'DEU', 'FR', 'SP', 'ITA']\n",
    "s"
   ]
  },
  {
   "cell_type": "markdown",
   "metadata": {},
   "source": [
    "We could use much of the same syntax as Python dictionaries"
   ]
  },
  {
   "cell_type": "code",
   "execution_count": 19,
   "metadata": {},
   "outputs": [
    {
     "data": {
      "text/plain": [
       "0.561743277837763"
      ]
     },
     "execution_count": 19,
     "metadata": {},
     "output_type": "execute_result"
    }
   ],
   "source": [
    "s['SP']"
   ]
  },
  {
   "cell_type": "code",
   "execution_count": 20,
   "metadata": {},
   "outputs": [
    {
     "data": {
      "text/plain": [
       "USA    0.491321\n",
       "DEU    0.382497\n",
       "FR     0.441126\n",
       "SP     0.600000\n",
       "ITA    0.293731\n",
       "Name: Openness index, dtype: float64"
      ]
     },
     "execution_count": 20,
     "metadata": {},
     "output_type": "execute_result"
    }
   ],
   "source": [
    "s['SP'] = 0.6\n",
    "s"
   ]
  },
  {
   "cell_type": "code",
   "execution_count": 21,
   "metadata": {},
   "outputs": [
    {
     "data": {
      "text/plain": [
       "True"
      ]
     },
     "execution_count": 21,
     "metadata": {},
     "output_type": "execute_result"
    }
   ],
   "source": [
    "'USA' in s"
   ]
  },
  {
   "cell_type": "markdown",
   "metadata": {},
   "source": [
    "### DataFrames"
   ]
  },
  {
   "cell_type": "markdown",
   "metadata": {},
   "source": [
    "While **Series** is a single column of data, a **DataFrames** is several columns, on for each variable\n",
    "\n",
    "We are going to open the *Data.csv* file which could be found in my GitHub. This file contains data from some Latin American countries which has been obtained from the [World Development Indicators ](http://databank.worldbank.org/data/reports.aspx?source=world-development-indicators)database provided by the World Bank"
   ]
  },
  {
   "cell_type": "code",
   "execution_count": 70,
   "metadata": {},
   "outputs": [],
   "source": [
    "df = pd.read_csv('https://github.com/jcasinos/Notes-econometrics/raw/master/Data.csv', sep =';')"
   ]
  },
  {
   "cell_type": "code",
   "execution_count": 71,
   "metadata": {
    "scrolled": true
   },
   "outputs": [
    {
     "data": {
      "text/html": [
       "<div>\n",
       "<style scoped>\n",
       "    .dataframe tbody tr th:only-of-type {\n",
       "        vertical-align: middle;\n",
       "    }\n",
       "\n",
       "    .dataframe tbody tr th {\n",
       "        vertical-align: top;\n",
       "    }\n",
       "\n",
       "    .dataframe thead th {\n",
       "        text-align: right;\n",
       "    }\n",
       "</style>\n",
       "<table border=\"1\" class=\"dataframe\">\n",
       "  <thead>\n",
       "    <tr style=\"text-align: right;\">\n",
       "      <th></th>\n",
       "      <th>Country Name</th>\n",
       "      <th>Year</th>\n",
       "      <th>Foreign direct investment, net inflows (% of GDP)</th>\n",
       "      <th>GDP per capita (constant 2010 US$)</th>\n",
       "      <th>Government expenditure on education, total (% of GDP)</th>\n",
       "    </tr>\n",
       "  </thead>\n",
       "  <tbody>\n",
       "    <tr>\n",
       "      <th>0</th>\n",
       "      <td>Argentina</td>\n",
       "      <td>2013</td>\n",
       "      <td>1.779206</td>\n",
       "      <td>10699.197720</td>\n",
       "      <td>5.41769</td>\n",
       "    </tr>\n",
       "    <tr>\n",
       "      <th>1</th>\n",
       "      <td>Brazil</td>\n",
       "      <td>2013</td>\n",
       "      <td>2.818097</td>\n",
       "      <td>11912.146760</td>\n",
       "      <td>5.99395</td>\n",
       "    </tr>\n",
       "    <tr>\n",
       "      <th>2</th>\n",
       "      <td>Chile</td>\n",
       "      <td>2013</td>\n",
       "      <td>7.576676</td>\n",
       "      <td>14551.044420</td>\n",
       "      <td>4.55840</td>\n",
       "    </tr>\n",
       "    <tr>\n",
       "      <th>3</th>\n",
       "      <td>Colombia</td>\n",
       "      <td>2013</td>\n",
       "      <td>4.263451</td>\n",
       "      <td>7051.040137</td>\n",
       "      <td>4.90668</td>\n",
       "    </tr>\n",
       "    <tr>\n",
       "      <th>4</th>\n",
       "      <td>Mexico</td>\n",
       "      <td>2013</td>\n",
       "      <td>3.735144</td>\n",
       "      <td>9409.965371</td>\n",
       "      <td>4.74773</td>\n",
       "    </tr>\n",
       "  </tbody>\n",
       "</table>\n",
       "</div>"
      ],
      "text/plain": [
       "  Country Name  Year  Foreign direct investment, net inflows (% of GDP)  \\\n",
       "0    Argentina  2013                                           1.779206   \n",
       "1       Brazil  2013                                           2.818097   \n",
       "2        Chile  2013                                           7.576676   \n",
       "3     Colombia  2013                                           4.263451   \n",
       "4       Mexico  2013                                           3.735144   \n",
       "\n",
       "   GDP per capita (constant 2010 US$)  \\\n",
       "0                        10699.197720   \n",
       "1                        11912.146760   \n",
       "2                        14551.044420   \n",
       "3                         7051.040137   \n",
       "4                         9409.965371   \n",
       "\n",
       "   Government expenditure on education, total (% of GDP)  \n",
       "0                                            5.41769      \n",
       "1                                            5.99395      \n",
       "2                                            4.55840      \n",
       "3                                            4.90668      \n",
       "4                                            4.74773      "
      ]
     },
     "execution_count": 71,
     "metadata": {},
     "output_type": "execute_result"
    }
   ],
   "source": [
    "df"
   ]
  },
  {
   "cell_type": "markdown",
   "metadata": {},
   "source": [
    "We can select particular rows using standard Python slicing:"
   ]
  },
  {
   "cell_type": "code",
   "execution_count": 72,
   "metadata": {
    "scrolled": true
   },
   "outputs": [
    {
     "data": {
      "text/html": [
       "<div>\n",
       "<style scoped>\n",
       "    .dataframe tbody tr th:only-of-type {\n",
       "        vertical-align: middle;\n",
       "    }\n",
       "\n",
       "    .dataframe tbody tr th {\n",
       "        vertical-align: top;\n",
       "    }\n",
       "\n",
       "    .dataframe thead th {\n",
       "        text-align: right;\n",
       "    }\n",
       "</style>\n",
       "<table border=\"1\" class=\"dataframe\">\n",
       "  <thead>\n",
       "    <tr style=\"text-align: right;\">\n",
       "      <th></th>\n",
       "      <th>Country Name</th>\n",
       "      <th>Year</th>\n",
       "      <th>Foreign direct investment, net inflows (% of GDP)</th>\n",
       "      <th>GDP per capita (constant 2010 US$)</th>\n",
       "      <th>Government expenditure on education, total (% of GDP)</th>\n",
       "    </tr>\n",
       "  </thead>\n",
       "  <tbody>\n",
       "    <tr>\n",
       "      <th>0</th>\n",
       "      <td>Argentina</td>\n",
       "      <td>2013</td>\n",
       "      <td>1.779206</td>\n",
       "      <td>10699.19772</td>\n",
       "      <td>5.41769</td>\n",
       "    </tr>\n",
       "    <tr>\n",
       "      <th>1</th>\n",
       "      <td>Brazil</td>\n",
       "      <td>2013</td>\n",
       "      <td>2.818097</td>\n",
       "      <td>11912.14676</td>\n",
       "      <td>5.99395</td>\n",
       "    </tr>\n",
       "  </tbody>\n",
       "</table>\n",
       "</div>"
      ],
      "text/plain": [
       "  Country Name  Year  Foreign direct investment, net inflows (% of GDP)  \\\n",
       "0    Argentina  2013                                           1.779206   \n",
       "1       Brazil  2013                                           2.818097   \n",
       "\n",
       "   GDP per capita (constant 2010 US$)  \\\n",
       "0                         10699.19772   \n",
       "1                         11912.14676   \n",
       "\n",
       "   Government expenditure on education, total (% of GDP)  \n",
       "0                                            5.41769      \n",
       "1                                            5.99395      "
      ]
     },
     "execution_count": 72,
     "metadata": {},
     "output_type": "execute_result"
    }
   ],
   "source": [
    "df[0:2]"
   ]
  },
  {
   "cell_type": "markdown",
   "metadata": {},
   "source": [
    "We can select columns using a list containing the names of the desired colums:"
   ]
  },
  {
   "cell_type": "code",
   "execution_count": 73,
   "metadata": {},
   "outputs": [
    {
     "data": {
      "text/html": [
       "<div>\n",
       "<style scoped>\n",
       "    .dataframe tbody tr th:only-of-type {\n",
       "        vertical-align: middle;\n",
       "    }\n",
       "\n",
       "    .dataframe tbody tr th {\n",
       "        vertical-align: top;\n",
       "    }\n",
       "\n",
       "    .dataframe thead th {\n",
       "        text-align: right;\n",
       "    }\n",
       "</style>\n",
       "<table border=\"1\" class=\"dataframe\">\n",
       "  <thead>\n",
       "    <tr style=\"text-align: right;\">\n",
       "      <th></th>\n",
       "      <th>Country Name</th>\n",
       "      <th>Foreign direct investment, net inflows (% of GDP)</th>\n",
       "    </tr>\n",
       "  </thead>\n",
       "  <tbody>\n",
       "    <tr>\n",
       "      <th>0</th>\n",
       "      <td>Argentina</td>\n",
       "      <td>1.779206</td>\n",
       "    </tr>\n",
       "    <tr>\n",
       "      <th>1</th>\n",
       "      <td>Brazil</td>\n",
       "      <td>2.818097</td>\n",
       "    </tr>\n",
       "    <tr>\n",
       "      <th>2</th>\n",
       "      <td>Chile</td>\n",
       "      <td>7.576676</td>\n",
       "    </tr>\n",
       "    <tr>\n",
       "      <th>3</th>\n",
       "      <td>Colombia</td>\n",
       "      <td>4.263451</td>\n",
       "    </tr>\n",
       "    <tr>\n",
       "      <th>4</th>\n",
       "      <td>Mexico</td>\n",
       "      <td>3.735144</td>\n",
       "    </tr>\n",
       "  </tbody>\n",
       "</table>\n",
       "</div>"
      ],
      "text/plain": [
       "  Country Name  Foreign direct investment, net inflows (% of GDP)\n",
       "0    Argentina                                           1.779206\n",
       "1       Brazil                                           2.818097\n",
       "2        Chile                                           7.576676\n",
       "3     Colombia                                           4.263451\n",
       "4       Mexico                                           3.735144"
      ]
     },
     "execution_count": 73,
     "metadata": {},
     "output_type": "execute_result"
    }
   ],
   "source": [
    "df[['Country Name', 'Foreign direct investment, net inflows (% of GDP)']]"
   ]
  },
  {
   "cell_type": "markdown",
   "metadata": {},
   "source": [
    "To select both rows and columns we should use *.iloc[rows,columns]*"
   ]
  },
  {
   "cell_type": "code",
   "execution_count": 74,
   "metadata": {
    "scrolled": true
   },
   "outputs": [
    {
     "data": {
      "text/html": [
       "<div>\n",
       "<style scoped>\n",
       "    .dataframe tbody tr th:only-of-type {\n",
       "        vertical-align: middle;\n",
       "    }\n",
       "\n",
       "    .dataframe tbody tr th {\n",
       "        vertical-align: top;\n",
       "    }\n",
       "\n",
       "    .dataframe thead th {\n",
       "        text-align: right;\n",
       "    }\n",
       "</style>\n",
       "<table border=\"1\" class=\"dataframe\">\n",
       "  <thead>\n",
       "    <tr style=\"text-align: right;\">\n",
       "      <th></th>\n",
       "      <th>Country Name</th>\n",
       "      <th>Year</th>\n",
       "      <th>Foreign direct investment, net inflows (% of GDP)</th>\n",
       "    </tr>\n",
       "  </thead>\n",
       "  <tbody>\n",
       "    <tr>\n",
       "      <th>0</th>\n",
       "      <td>Argentina</td>\n",
       "      <td>2013</td>\n",
       "      <td>1.779206</td>\n",
       "    </tr>\n",
       "    <tr>\n",
       "      <th>1</th>\n",
       "      <td>Brazil</td>\n",
       "      <td>2013</td>\n",
       "      <td>2.818097</td>\n",
       "    </tr>\n",
       "  </tbody>\n",
       "</table>\n",
       "</div>"
      ],
      "text/plain": [
       "  Country Name  Year  Foreign direct investment, net inflows (% of GDP)\n",
       "0    Argentina  2013                                           1.779206\n",
       "1       Brazil  2013                                           2.818097"
      ]
     },
     "execution_count": 74,
     "metadata": {},
     "output_type": "execute_result"
    }
   ],
   "source": [
    "df.iloc[0:2,0:3]"
   ]
  },
  {
   "cell_type": "markdown",
   "metadata": {},
   "source": [
    "Here the index 0,1,...,4 is redundant since we could use the country name"
   ]
  },
  {
   "cell_type": "code",
   "execution_count": 75,
   "metadata": {
    "scrolled": true
   },
   "outputs": [
    {
     "data": {
      "text/html": [
       "<div>\n",
       "<style scoped>\n",
       "    .dataframe tbody tr th:only-of-type {\n",
       "        vertical-align: middle;\n",
       "    }\n",
       "\n",
       "    .dataframe tbody tr th {\n",
       "        vertical-align: top;\n",
       "    }\n",
       "\n",
       "    .dataframe thead th {\n",
       "        text-align: right;\n",
       "    }\n",
       "</style>\n",
       "<table border=\"1\" class=\"dataframe\">\n",
       "  <thead>\n",
       "    <tr style=\"text-align: right;\">\n",
       "      <th></th>\n",
       "      <th>Year</th>\n",
       "      <th>Foreign direct investment, net inflows (% of GDP)</th>\n",
       "      <th>GDP per capita (constant 2010 US$)</th>\n",
       "      <th>Government expenditure on education, total (% of GDP)</th>\n",
       "    </tr>\n",
       "    <tr>\n",
       "      <th>Country Name</th>\n",
       "      <th></th>\n",
       "      <th></th>\n",
       "      <th></th>\n",
       "      <th></th>\n",
       "    </tr>\n",
       "  </thead>\n",
       "  <tbody>\n",
       "    <tr>\n",
       "      <th>Argentina</th>\n",
       "      <td>2013</td>\n",
       "      <td>1.779206</td>\n",
       "      <td>10699.197720</td>\n",
       "      <td>5.41769</td>\n",
       "    </tr>\n",
       "    <tr>\n",
       "      <th>Brazil</th>\n",
       "      <td>2013</td>\n",
       "      <td>2.818097</td>\n",
       "      <td>11912.146760</td>\n",
       "      <td>5.99395</td>\n",
       "    </tr>\n",
       "    <tr>\n",
       "      <th>Chile</th>\n",
       "      <td>2013</td>\n",
       "      <td>7.576676</td>\n",
       "      <td>14551.044420</td>\n",
       "      <td>4.55840</td>\n",
       "    </tr>\n",
       "    <tr>\n",
       "      <th>Colombia</th>\n",
       "      <td>2013</td>\n",
       "      <td>4.263451</td>\n",
       "      <td>7051.040137</td>\n",
       "      <td>4.90668</td>\n",
       "    </tr>\n",
       "    <tr>\n",
       "      <th>Mexico</th>\n",
       "      <td>2013</td>\n",
       "      <td>3.735144</td>\n",
       "      <td>9409.965371</td>\n",
       "      <td>4.74773</td>\n",
       "    </tr>\n",
       "  </tbody>\n",
       "</table>\n",
       "</div>"
      ],
      "text/plain": [
       "              Year  Foreign direct investment, net inflows (% of GDP)  \\\n",
       "Country Name                                                            \n",
       "Argentina     2013                                           1.779206   \n",
       "Brazil        2013                                           2.818097   \n",
       "Chile         2013                                           7.576676   \n",
       "Colombia      2013                                           4.263451   \n",
       "Mexico        2013                                           3.735144   \n",
       "\n",
       "              GDP per capita (constant 2010 US$)  \\\n",
       "Country Name                                       \n",
       "Argentina                           10699.197720   \n",
       "Brazil                              11912.146760   \n",
       "Chile                               14551.044420   \n",
       "Colombia                             7051.040137   \n",
       "Mexico                               9409.965371   \n",
       "\n",
       "              Government expenditure on education, total (% of GDP)  \n",
       "Country Name                                                         \n",
       "Argentina                                               5.41769      \n",
       "Brazil                                                  5.99395      \n",
       "Chile                                                   4.55840      \n",
       "Colombia                                                4.90668      \n",
       "Mexico                                                  4.74773      "
      ]
     },
     "execution_count": 75,
     "metadata": {},
     "output_type": "execute_result"
    }
   ],
   "source": [
    "df = df.set_index('Country Name')\n",
    "df"
   ]
  },
  {
   "cell_type": "markdown",
   "metadata": {},
   "source": [
    "We can give to the columns better names:"
   ]
  },
  {
   "cell_type": "code",
   "execution_count": 76,
   "metadata": {
    "scrolled": true
   },
   "outputs": [
    {
     "data": {
      "text/html": [
       "<div>\n",
       "<style scoped>\n",
       "    .dataframe tbody tr th:only-of-type {\n",
       "        vertical-align: middle;\n",
       "    }\n",
       "\n",
       "    .dataframe tbody tr th {\n",
       "        vertical-align: top;\n",
       "    }\n",
       "\n",
       "    .dataframe thead th {\n",
       "        text-align: right;\n",
       "    }\n",
       "</style>\n",
       "<table border=\"1\" class=\"dataframe\">\n",
       "  <thead>\n",
       "    <tr style=\"text-align: right;\">\n",
       "      <th></th>\n",
       "      <th>Year</th>\n",
       "      <th>HDi</th>\n",
       "      <th>GDP pc</th>\n",
       "      <th>Edu</th>\n",
       "    </tr>\n",
       "    <tr>\n",
       "      <th>Country Name</th>\n",
       "      <th></th>\n",
       "      <th></th>\n",
       "      <th></th>\n",
       "      <th></th>\n",
       "    </tr>\n",
       "  </thead>\n",
       "  <tbody>\n",
       "    <tr>\n",
       "      <th>Argentina</th>\n",
       "      <td>2013</td>\n",
       "      <td>1.779206</td>\n",
       "      <td>10699.197720</td>\n",
       "      <td>5.41769</td>\n",
       "    </tr>\n",
       "    <tr>\n",
       "      <th>Brazil</th>\n",
       "      <td>2013</td>\n",
       "      <td>2.818097</td>\n",
       "      <td>11912.146760</td>\n",
       "      <td>5.99395</td>\n",
       "    </tr>\n",
       "    <tr>\n",
       "      <th>Chile</th>\n",
       "      <td>2013</td>\n",
       "      <td>7.576676</td>\n",
       "      <td>14551.044420</td>\n",
       "      <td>4.55840</td>\n",
       "    </tr>\n",
       "    <tr>\n",
       "      <th>Colombia</th>\n",
       "      <td>2013</td>\n",
       "      <td>4.263451</td>\n",
       "      <td>7051.040137</td>\n",
       "      <td>4.90668</td>\n",
       "    </tr>\n",
       "    <tr>\n",
       "      <th>Mexico</th>\n",
       "      <td>2013</td>\n",
       "      <td>3.735144</td>\n",
       "      <td>9409.965371</td>\n",
       "      <td>4.74773</td>\n",
       "    </tr>\n",
       "  </tbody>\n",
       "</table>\n",
       "</div>"
      ],
      "text/plain": [
       "              Year       HDi        GDP pc      Edu\n",
       "Country Name                                       \n",
       "Argentina     2013  1.779206  10699.197720  5.41769\n",
       "Brazil        2013  2.818097  11912.146760  5.99395\n",
       "Chile         2013  7.576676  14551.044420  4.55840\n",
       "Colombia      2013  4.263451   7051.040137  4.90668\n",
       "Mexico        2013  3.735144   9409.965371  4.74773"
      ]
     },
     "execution_count": 76,
     "metadata": {},
     "output_type": "execute_result"
    }
   ],
   "source": [
    "df.rename(columns={'Foreign direct investment, net inflows (% of GDP)': 'HDi'}, inplace = True)\n",
    "df.rename(columns={'GDP per capita (constant 2010 US$)': 'GDP pc'}, inplace = True)\n",
    "df.rename(columns={'Government expenditure on education, total (% of GDP)': 'Edu'}, inplace = True)\n",
    "df"
   ]
  },
  {
   "cell_type": "markdown",
   "metadata": {},
   "source": [
    "As usual we could present the GDP per capita in  logarithms"
   ]
  },
  {
   "cell_type": "code",
   "execution_count": 77,
   "metadata": {},
   "outputs": [
    {
     "data": {
      "text/html": [
       "<div>\n",
       "<style scoped>\n",
       "    .dataframe tbody tr th:only-of-type {\n",
       "        vertical-align: middle;\n",
       "    }\n",
       "\n",
       "    .dataframe tbody tr th {\n",
       "        vertical-align: top;\n",
       "    }\n",
       "\n",
       "    .dataframe thead th {\n",
       "        text-align: right;\n",
       "    }\n",
       "</style>\n",
       "<table border=\"1\" class=\"dataframe\">\n",
       "  <thead>\n",
       "    <tr style=\"text-align: right;\">\n",
       "      <th></th>\n",
       "      <th>Year</th>\n",
       "      <th>HDi</th>\n",
       "      <th>GDP pc</th>\n",
       "      <th>Edu</th>\n",
       "    </tr>\n",
       "    <tr>\n",
       "      <th>Country Name</th>\n",
       "      <th></th>\n",
       "      <th></th>\n",
       "      <th></th>\n",
       "      <th></th>\n",
       "    </tr>\n",
       "  </thead>\n",
       "  <tbody>\n",
       "    <tr>\n",
       "      <th>Argentina</th>\n",
       "      <td>2013</td>\n",
       "      <td>1.779206</td>\n",
       "      <td>9.277924</td>\n",
       "      <td>5.41769</td>\n",
       "    </tr>\n",
       "    <tr>\n",
       "      <th>Brazil</th>\n",
       "      <td>2013</td>\n",
       "      <td>2.818097</td>\n",
       "      <td>9.385314</td>\n",
       "      <td>5.99395</td>\n",
       "    </tr>\n",
       "    <tr>\n",
       "      <th>Chile</th>\n",
       "      <td>2013</td>\n",
       "      <td>7.576676</td>\n",
       "      <td>9.585418</td>\n",
       "      <td>4.55840</td>\n",
       "    </tr>\n",
       "    <tr>\n",
       "      <th>Colombia</th>\n",
       "      <td>2013</td>\n",
       "      <td>4.263451</td>\n",
       "      <td>8.860930</td>\n",
       "      <td>4.90668</td>\n",
       "    </tr>\n",
       "    <tr>\n",
       "      <th>Mexico</th>\n",
       "      <td>2013</td>\n",
       "      <td>3.735144</td>\n",
       "      <td>9.149525</td>\n",
       "      <td>4.74773</td>\n",
       "    </tr>\n",
       "  </tbody>\n",
       "</table>\n",
       "</div>"
      ],
      "text/plain": [
       "              Year       HDi    GDP pc      Edu\n",
       "Country Name                                   \n",
       "Argentina     2013  1.779206  9.277924  5.41769\n",
       "Brazil        2013  2.818097  9.385314  5.99395\n",
       "Chile         2013  7.576676  9.585418  4.55840\n",
       "Colombia      2013  4.263451  8.860930  4.90668\n",
       "Mexico        2013  3.735144  9.149525  4.74773"
      ]
     },
     "execution_count": 77,
     "metadata": {},
     "output_type": "execute_result"
    }
   ],
   "source": [
    "df['GDP pc'] = np.log(df['GDP pc'])\n",
    "df"
   ]
  },
  {
   "cell_type": "markdown",
   "metadata": {},
   "source": [
    "One cool thing about pandas **DataFrames** and **Series** objects is that they have methods for plotting and visualization that work with **Matplotlib**"
   ]
  },
  {
   "cell_type": "code",
   "execution_count": 80,
   "metadata": {},
   "outputs": [
    {
     "data": {
      "image/png": "[encoded data removed]",
      "text/plain": [
       "<matplotlib.figure.Figure at 0x1174587f0>"
      ]
     },
     "metadata": {},
     "output_type": "display_data"
    }
   ],
   "source": [
    "import matplotlib.pyplot as plt\n",
    "plt.style.use('seaborn')\n",
    "df['HDi'].plot(kind = 'bar')\n",
    "plt.show()"
   ]
  },
  {
   "cell_type": "markdown",
   "metadata": {},
   "source": [
    "We could sort the variables by their foreign direct investment net inflows"
   ]
  },
  {
   "cell_type": "code",
   "execution_count": 82,
   "metadata": {
    "scrolled": true
   },
   "outputs": [
    {
     "data": {
      "text/html": [
       "<div>\n",
       "<style scoped>\n",
       "    .dataframe tbody tr th:only-of-type {\n",
       "        vertical-align: middle;\n",
       "    }\n",
       "\n",
       "    .dataframe tbody tr th {\n",
       "        vertical-align: top;\n",
       "    }\n",
       "\n",
       "    .dataframe thead th {\n",
       "        text-align: right;\n",
       "    }\n",
       "</style>\n",
       "<table border=\"1\" class=\"dataframe\">\n",
       "  <thead>\n",
       "    <tr style=\"text-align: right;\">\n",
       "      <th></th>\n",
       "      <th>Year</th>\n",
       "      <th>HDi</th>\n",
       "      <th>GDP pc</th>\n",
       "      <th>Edu</th>\n",
       "    </tr>\n",
       "    <tr>\n",
       "      <th>Country Name</th>\n",
       "      <th></th>\n",
       "      <th></th>\n",
       "      <th></th>\n",
       "      <th></th>\n",
       "    </tr>\n",
       "  </thead>\n",
       "  <tbody>\n",
       "    <tr>\n",
       "      <th>Chile</th>\n",
       "      <td>2013</td>\n",
       "      <td>7.576676</td>\n",
       "      <td>9.585418</td>\n",
       "      <td>4.55840</td>\n",
       "    </tr>\n",
       "    <tr>\n",
       "      <th>Colombia</th>\n",
       "      <td>2013</td>\n",
       "      <td>4.263451</td>\n",
       "      <td>8.860930</td>\n",
       "      <td>4.90668</td>\n",
       "    </tr>\n",
       "    <tr>\n",
       "      <th>Mexico</th>\n",
       "      <td>2013</td>\n",
       "      <td>3.735144</td>\n",
       "      <td>9.149525</td>\n",
       "      <td>4.74773</td>\n",
       "    </tr>\n",
       "    <tr>\n",
       "      <th>Brazil</th>\n",
       "      <td>2013</td>\n",
       "      <td>2.818097</td>\n",
       "      <td>9.385314</td>\n",
       "      <td>5.99395</td>\n",
       "    </tr>\n",
       "    <tr>\n",
       "      <th>Argentina</th>\n",
       "      <td>2013</td>\n",
       "      <td>1.779206</td>\n",
       "      <td>9.277924</td>\n",
       "      <td>5.41769</td>\n",
       "    </tr>\n",
       "  </tbody>\n",
       "</table>\n",
       "</div>"
      ],
      "text/plain": [
       "              Year       HDi    GDP pc      Edu\n",
       "Country Name                                   \n",
       "Chile         2013  7.576676  9.585418  4.55840\n",
       "Colombia      2013  4.263451  8.860930  4.90668\n",
       "Mexico        2013  3.735144  9.149525  4.74773\n",
       "Brazil        2013  2.818097  9.385314  5.99395\n",
       "Argentina     2013  1.779206  9.277924  5.41769"
      ]
     },
     "execution_count": 82,
     "metadata": {},
     "output_type": "execute_result"
    }
   ],
   "source": [
    "df = df.sort_values(by = 'HDi', ascending = False)\n",
    "df"
   ]
  },
  {
   "cell_type": "code",
   "execution_count": 83,
   "metadata": {},
   "outputs": [
    {
     "data": {
      "image/png": "[encoded data removed]",
      "text/plain": [
       "<matplotlib.figure.Figure at 0x1140f6a90>"
      ]
     },
     "metadata": {},
     "output_type": "display_data"
    }
   ],
   "source": [
    "df['HDi'].plot(kind = 'bar')\n",
    "plt.show()"
   ]
  }
 ],
 "metadata": {
  "kernelspec": {
   "display_name": "Python 3",
   "language": "python",
   "name": "python3"
  },
  "language_info": {
   "codemirror_mode": {
    "name": "ipython",
    "version": 3
   },
   "file_extension": ".py",
   "mimetype": "text/x-python",
   "name": "python",
   "nbconvert_exporter": "python",
   "pygments_lexer": "ipython3",
   "version": "3.6.4"
  }
 },
 "nbformat": 4,
 "nbformat_minor": 2
}
